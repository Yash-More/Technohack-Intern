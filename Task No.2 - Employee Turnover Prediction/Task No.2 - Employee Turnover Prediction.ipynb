{
 "cells": [
  {
   "cell_type": "markdown",
   "id": "540d91d4",
   "metadata": {
    "id": "ad5fcba5"
   },
   "source": [
    "# Intern : Yash More "
   ]
  },
  {
   "cell_type": "markdown",
   "id": "4f2fee6f",
   "metadata": {},
   "source": [
    "Task No.2 - Employee Turnover Prediction using Python"
   ]
  },
  {
   "cell_type": "code",
   "execution_count": 1,
   "id": "0b3b5abe",
   "metadata": {},
   "outputs": [],
   "source": [
    "import pandas as pd\n",
    "import numpy as np\n",
    "import seaborn as sns\n",
    "import matplotlib as mpl\n",
    "import matplotlib.pyplot as plt\n",
    "import warnings\n",
    "warnings.filterwarnings ('ignore')"
   ]
  },
  {
   "cell_type": "code",
   "execution_count": 2,
   "id": "9af66de2",
   "metadata": {
    "colab": {
     "base_uri": "https://localhost:8080/",
     "height": 369
    },
    "id": "9af66de2",
    "outputId": "d1f41056-cb0f-4224-dd70-3abf05f87de6",
    "scrolled": false
   },
   "outputs": [
    {
     "data": {
      "text/html": [
       "<div>\n",
       "<style scoped>\n",
       "    .dataframe tbody tr th:only-of-type {\n",
       "        vertical-align: middle;\n",
       "    }\n",
       "\n",
       "    .dataframe tbody tr th {\n",
       "        vertical-align: top;\n",
       "    }\n",
       "\n",
       "    .dataframe thead th {\n",
       "        text-align: right;\n",
       "    }\n",
       "</style>\n",
       "<table border=\"1\" class=\"dataframe\">\n",
       "  <thead>\n",
       "    <tr style=\"text-align: right;\">\n",
       "      <th></th>\n",
       "      <th>Age</th>\n",
       "      <th>Attrition</th>\n",
       "      <th>BusinessTravel</th>\n",
       "      <th>DailyRate</th>\n",
       "      <th>Department</th>\n",
       "      <th>DistanceFromHome</th>\n",
       "      <th>Education</th>\n",
       "      <th>EducationField</th>\n",
       "      <th>EmployeeCount</th>\n",
       "      <th>EmployeeNumber</th>\n",
       "      <th>...</th>\n",
       "      <th>RelationshipSatisfaction</th>\n",
       "      <th>StandardHours</th>\n",
       "      <th>StockOptionLevel</th>\n",
       "      <th>TotalWorkingYears</th>\n",
       "      <th>TrainingTimesLastYear</th>\n",
       "      <th>WorkLifeBalance</th>\n",
       "      <th>YearsAtCompany</th>\n",
       "      <th>YearsInCurrentRole</th>\n",
       "      <th>YearsSinceLastPromotion</th>\n",
       "      <th>YearsWithCurrManager</th>\n",
       "    </tr>\n",
       "  </thead>\n",
       "  <tbody>\n",
       "    <tr>\n",
       "      <th>0</th>\n",
       "      <td>41</td>\n",
       "      <td>Yes</td>\n",
       "      <td>Travel_Rarely</td>\n",
       "      <td>1102</td>\n",
       "      <td>Sales</td>\n",
       "      <td>1</td>\n",
       "      <td>2</td>\n",
       "      <td>Life Sciences</td>\n",
       "      <td>1</td>\n",
       "      <td>1</td>\n",
       "      <td>...</td>\n",
       "      <td>1</td>\n",
       "      <td>80</td>\n",
       "      <td>0</td>\n",
       "      <td>8</td>\n",
       "      <td>0</td>\n",
       "      <td>1</td>\n",
       "      <td>6</td>\n",
       "      <td>4</td>\n",
       "      <td>0</td>\n",
       "      <td>5</td>\n",
       "    </tr>\n",
       "    <tr>\n",
       "      <th>1</th>\n",
       "      <td>49</td>\n",
       "      <td>No</td>\n",
       "      <td>Travel_Frequently</td>\n",
       "      <td>279</td>\n",
       "      <td>Research &amp; Development</td>\n",
       "      <td>8</td>\n",
       "      <td>1</td>\n",
       "      <td>Life Sciences</td>\n",
       "      <td>1</td>\n",
       "      <td>2</td>\n",
       "      <td>...</td>\n",
       "      <td>4</td>\n",
       "      <td>80</td>\n",
       "      <td>1</td>\n",
       "      <td>10</td>\n",
       "      <td>3</td>\n",
       "      <td>3</td>\n",
       "      <td>10</td>\n",
       "      <td>7</td>\n",
       "      <td>1</td>\n",
       "      <td>7</td>\n",
       "    </tr>\n",
       "    <tr>\n",
       "      <th>2</th>\n",
       "      <td>37</td>\n",
       "      <td>Yes</td>\n",
       "      <td>Travel_Rarely</td>\n",
       "      <td>1373</td>\n",
       "      <td>Research &amp; Development</td>\n",
       "      <td>2</td>\n",
       "      <td>2</td>\n",
       "      <td>Other</td>\n",
       "      <td>1</td>\n",
       "      <td>4</td>\n",
       "      <td>...</td>\n",
       "      <td>2</td>\n",
       "      <td>80</td>\n",
       "      <td>0</td>\n",
       "      <td>7</td>\n",
       "      <td>3</td>\n",
       "      <td>3</td>\n",
       "      <td>0</td>\n",
       "      <td>0</td>\n",
       "      <td>0</td>\n",
       "      <td>0</td>\n",
       "    </tr>\n",
       "    <tr>\n",
       "      <th>3</th>\n",
       "      <td>33</td>\n",
       "      <td>No</td>\n",
       "      <td>Travel_Frequently</td>\n",
       "      <td>1392</td>\n",
       "      <td>Research &amp; Development</td>\n",
       "      <td>3</td>\n",
       "      <td>4</td>\n",
       "      <td>Life Sciences</td>\n",
       "      <td>1</td>\n",
       "      <td>5</td>\n",
       "      <td>...</td>\n",
       "      <td>3</td>\n",
       "      <td>80</td>\n",
       "      <td>0</td>\n",
       "      <td>8</td>\n",
       "      <td>3</td>\n",
       "      <td>3</td>\n",
       "      <td>8</td>\n",
       "      <td>7</td>\n",
       "      <td>3</td>\n",
       "      <td>0</td>\n",
       "    </tr>\n",
       "    <tr>\n",
       "      <th>4</th>\n",
       "      <td>27</td>\n",
       "      <td>No</td>\n",
       "      <td>Travel_Rarely</td>\n",
       "      <td>591</td>\n",
       "      <td>Research &amp; Development</td>\n",
       "      <td>2</td>\n",
       "      <td>1</td>\n",
       "      <td>Medical</td>\n",
       "      <td>1</td>\n",
       "      <td>7</td>\n",
       "      <td>...</td>\n",
       "      <td>4</td>\n",
       "      <td>80</td>\n",
       "      <td>1</td>\n",
       "      <td>6</td>\n",
       "      <td>3</td>\n",
       "      <td>3</td>\n",
       "      <td>2</td>\n",
       "      <td>2</td>\n",
       "      <td>2</td>\n",
       "      <td>2</td>\n",
       "    </tr>\n",
       "  </tbody>\n",
       "</table>\n",
       "<p>5 rows × 35 columns</p>\n",
       "</div>"
      ],
      "text/plain": [
       "   Age Attrition     BusinessTravel  DailyRate              Department  \\\n",
       "0   41       Yes      Travel_Rarely       1102                   Sales   \n",
       "1   49        No  Travel_Frequently        279  Research & Development   \n",
       "2   37       Yes      Travel_Rarely       1373  Research & Development   \n",
       "3   33        No  Travel_Frequently       1392  Research & Development   \n",
       "4   27        No      Travel_Rarely        591  Research & Development   \n",
       "\n",
       "   DistanceFromHome  Education EducationField  EmployeeCount  EmployeeNumber  \\\n",
       "0                 1          2  Life Sciences              1               1   \n",
       "1                 8          1  Life Sciences              1               2   \n",
       "2                 2          2          Other              1               4   \n",
       "3                 3          4  Life Sciences              1               5   \n",
       "4                 2          1        Medical              1               7   \n",
       "\n",
       "   ...  RelationshipSatisfaction StandardHours  StockOptionLevel  \\\n",
       "0  ...                         1            80                 0   \n",
       "1  ...                         4            80                 1   \n",
       "2  ...                         2            80                 0   \n",
       "3  ...                         3            80                 0   \n",
       "4  ...                         4            80                 1   \n",
       "\n",
       "   TotalWorkingYears  TrainingTimesLastYear WorkLifeBalance  YearsAtCompany  \\\n",
       "0                  8                      0               1               6   \n",
       "1                 10                      3               3              10   \n",
       "2                  7                      3               3               0   \n",
       "3                  8                      3               3               8   \n",
       "4                  6                      3               3               2   \n",
       "\n",
       "  YearsInCurrentRole  YearsSinceLastPromotion  YearsWithCurrManager  \n",
       "0                  4                        0                     5  \n",
       "1                  7                        1                     7  \n",
       "2                  0                        0                     0  \n",
       "3                  7                        3                     0  \n",
       "4                  2                        2                     2  \n",
       "\n",
       "[5 rows x 35 columns]"
      ]
     },
     "execution_count": 2,
     "metadata": {},
     "output_type": "execute_result"
    }
   ],
   "source": [
    "data=pd.read_csv(r\"C:\\Users\\Admin\\Downloads\\HR-Employee-Attrition.csv\")\n",
    "data.head()"
   ]
  },
  {
   "cell_type": "code",
   "execution_count": 3,
   "id": "4f9695bf",
   "metadata": {},
   "outputs": [
    {
     "data": {
      "text/plain": [
       "No     1233\n",
       "Yes     237\n",
       "Name: Attrition, dtype: int64"
      ]
     },
     "execution_count": 3,
     "metadata": {},
     "output_type": "execute_result"
    }
   ],
   "source": [
    "data['Attrition'].value_counts()"
   ]
  },
  {
   "cell_type": "code",
   "execution_count": 4,
   "id": "050daeca",
   "metadata": {
    "colab": {
     "base_uri": "https://localhost:8080/"
    },
    "id": "050daeca",
    "outputId": "46bfe8bc-1cc5-402b-c46d-2e5a745d29f9"
   },
   "outputs": [
    {
     "data": {
      "text/plain": [
       "Age                         0\n",
       "Attrition                   0\n",
       "BusinessTravel              0\n",
       "DailyRate                   0\n",
       "Department                  0\n",
       "DistanceFromHome            0\n",
       "Education                   0\n",
       "EducationField              0\n",
       "EmployeeCount               0\n",
       "EmployeeNumber              0\n",
       "EnvironmentSatisfaction     0\n",
       "Gender                      0\n",
       "HourlyRate                  0\n",
       "JobInvolvement              0\n",
       "JobLevel                    0\n",
       "JobRole                     0\n",
       "JobSatisfaction             0\n",
       "MaritalStatus               0\n",
       "MonthlyIncome               0\n",
       "MonthlyRate                 0\n",
       "NumCompaniesWorked          0\n",
       "Over18                      0\n",
       "OverTime                    0\n",
       "PercentSalaryHike           0\n",
       "PerformanceRating           0\n",
       "RelationshipSatisfaction    0\n",
       "StandardHours               0\n",
       "StockOptionLevel            0\n",
       "TotalWorkingYears           0\n",
       "TrainingTimesLastYear       0\n",
       "WorkLifeBalance             0\n",
       "YearsAtCompany              0\n",
       "YearsInCurrentRole          0\n",
       "YearsSinceLastPromotion     0\n",
       "YearsWithCurrManager        0\n",
       "dtype: int64"
      ]
     },
     "execution_count": 4,
     "metadata": {},
     "output_type": "execute_result"
    }
   ],
   "source": [
    "data.isna().sum()"
   ]
  },
  {
   "cell_type": "markdown",
   "id": "172b82a7",
   "metadata": {
    "id": "172b82a7"
   },
   "source": [
    "There are no any null values in the dataset."
   ]
  },
  {
   "cell_type": "code",
   "execution_count": 5,
   "id": "9fd5badd",
   "metadata": {
    "colab": {
     "base_uri": "https://localhost:8080/"
    },
    "id": "9fd5badd",
    "outputId": "35e9fc41-e41d-4d4c-a58e-06f728d136d1"
   },
   "outputs": [
    {
     "data": {
      "text/plain": [
       "(1470, 35)"
      ]
     },
     "execution_count": 5,
     "metadata": {},
     "output_type": "execute_result"
    }
   ],
   "source": [
    "data.shape"
   ]
  },
  {
   "cell_type": "code",
   "execution_count": 6,
   "id": "b74f396f",
   "metadata": {
    "colab": {
     "base_uri": "https://localhost:8080/"
    },
    "id": "b74f396f",
    "outputId": "869ea149-dc06-4ae5-8f15-60fb4ecc1128"
   },
   "outputs": [
    {
     "name": "stdout",
     "output_type": "stream",
     "text": [
      "<class 'pandas.core.frame.DataFrame'>\n",
      "RangeIndex: 1470 entries, 0 to 1469\n",
      "Data columns (total 35 columns):\n",
      " #   Column                    Non-Null Count  Dtype \n",
      "---  ------                    --------------  ----- \n",
      " 0   Age                       1470 non-null   int64 \n",
      " 1   Attrition                 1470 non-null   object\n",
      " 2   BusinessTravel            1470 non-null   object\n",
      " 3   DailyRate                 1470 non-null   int64 \n",
      " 4   Department                1470 non-null   object\n",
      " 5   DistanceFromHome          1470 non-null   int64 \n",
      " 6   Education                 1470 non-null   int64 \n",
      " 7   EducationField            1470 non-null   object\n",
      " 8   EmployeeCount             1470 non-null   int64 \n",
      " 9   EmployeeNumber            1470 non-null   int64 \n",
      " 10  EnvironmentSatisfaction   1470 non-null   int64 \n",
      " 11  Gender                    1470 non-null   object\n",
      " 12  HourlyRate                1470 non-null   int64 \n",
      " 13  JobInvolvement            1470 non-null   int64 \n",
      " 14  JobLevel                  1470 non-null   int64 \n",
      " 15  JobRole                   1470 non-null   object\n",
      " 16  JobSatisfaction           1470 non-null   int64 \n",
      " 17  MaritalStatus             1470 non-null   object\n",
      " 18  MonthlyIncome             1470 non-null   int64 \n",
      " 19  MonthlyRate               1470 non-null   int64 \n",
      " 20  NumCompaniesWorked        1470 non-null   int64 \n",
      " 21  Over18                    1470 non-null   object\n",
      " 22  OverTime                  1470 non-null   object\n",
      " 23  PercentSalaryHike         1470 non-null   int64 \n",
      " 24  PerformanceRating         1470 non-null   int64 \n",
      " 25  RelationshipSatisfaction  1470 non-null   int64 \n",
      " 26  StandardHours             1470 non-null   int64 \n",
      " 27  StockOptionLevel          1470 non-null   int64 \n",
      " 28  TotalWorkingYears         1470 non-null   int64 \n",
      " 29  TrainingTimesLastYear     1470 non-null   int64 \n",
      " 30  WorkLifeBalance           1470 non-null   int64 \n",
      " 31  YearsAtCompany            1470 non-null   int64 \n",
      " 32  YearsInCurrentRole        1470 non-null   int64 \n",
      " 33  YearsSinceLastPromotion   1470 non-null   int64 \n",
      " 34  YearsWithCurrManager      1470 non-null   int64 \n",
      "dtypes: int64(26), object(9)\n",
      "memory usage: 402.1+ KB\n"
     ]
    }
   ],
   "source": [
    "data.info()"
   ]
  },
  {
   "cell_type": "markdown",
   "id": "e209cad0",
   "metadata": {
    "id": "e209cad0"
   },
   "source": [
    "In all there are 35 variables , 9 of them are having string datatype and remaining 26 variables are integers of which some are categorical variables represented in integer format."
   ]
  },
  {
   "cell_type": "markdown",
   "id": "8e33bc9a",
   "metadata": {
    "id": "8e33bc9a"
   },
   "source": [
    "Data Visualization And Exploratory Data Analysis"
   ]
  },
  {
   "cell_type": "code",
   "execution_count": 7,
   "id": "40d9854a",
   "metadata": {
    "colab": {
     "base_uri": "https://localhost:8080/",
     "height": 880
    },
    "id": "40d9854a",
    "outputId": "c0084103-538f-498f-c58f-8aa552d18c59"
   },
   "outputs": [
    {
     "data": {
      "image/png": "[encoded data removed]",
      "text/plain": [
       "<Figure size 1400x1400 with 30 Axes>"
      ]
     },
     "metadata": {},
     "output_type": "display_data"
    }
   ],
   "source": [
    "data.hist(figsize=(14,14))\n",
    "plt.tight_layout()\n",
    "plt.show()"
   ]
  },
  {
   "cell_type": "markdown",
   "id": "678b4637",
   "metadata": {
    "id": "678b4637"
   },
   "source": [
    "From the above plots most of the features are positively skewed(DistanceFromHome, MonthlyIncome,NumCompaniesWorked,PercentSalaryHike,TotalWorkingYears,YearsAtCompany,YearsInCorrentRole,YearsSinceLastPromotion,YearsWithCurrManager). The Age feature is about symmetrical and most of the employees age is between 25-42. The feature such as EmployeeeCount and StandardHours are constant so we can remove them."
   ]
  },
  {
   "cell_type": "code",
   "execution_count": 8,
   "id": "8aedf26f",
   "metadata": {
    "id": "8aedf26f"
   },
   "outputs": [],
   "source": [
    "df=data.copy()"
   ]
  },
  {
   "cell_type": "code",
   "execution_count": 9,
   "id": "ae539261",
   "metadata": {
    "id": "ae539261"
   },
   "outputs": [],
   "source": [
    "#To display the features that are actually the categorical variables but displayed as the object.\n",
    "df.Attrition=pd.Categorical(df.Attrition)\n",
    "df.BusinessTravel=pd.Categorical(df.BusinessTravel)\n",
    "df.Department=pd.Categorical(df.Department)\n",
    "df.Gender=pd.Categorical(df.Gender)\n",
    "df.OverTime=pd.Categorical(df.OverTime)\n",
    "df.JobRole=pd.Categorical(df.JobRole)\n",
    "df.Over18=pd.Categorical(df.Over18)\n",
    "df.MaritalStatus=pd.Categorical(df.MaritalStatus)\n",
    "df.EducationField=pd.Categorical(df.EducationField)"
   ]
  },
  {
   "cell_type": "code",
   "execution_count": 10,
   "id": "69642d05",
   "metadata": {
    "id": "69642d05"
   },
   "outputs": [],
   "source": [
    "#To display the features that are actually the categorical variables but displayed as the integers.\n",
    "df.Education[df.Education==1]=\"Below College\"\n",
    "df.Education[df.Education==2]=\"College\"\n",
    "df.Education[df.Education==3]=\"Bachelor\"\n",
    "df.Education[df.Education==4]=\"Master\"\n",
    "df.Education[df.Education==5]=\"Doctor\"\n",
    "\n",
    "df.Education=pd.Categorical(df.Education)\n",
    "\n",
    "df.EnvironmentSatisfaction[df.EnvironmentSatisfaction==1]=\"Low\"\n",
    "df.EnvironmentSatisfaction[df.EnvironmentSatisfaction==2]=\"Medium\"\n",
    "df.EnvironmentSatisfaction[df.EnvironmentSatisfaction==3]=\"High\"\n",
    "df.EnvironmentSatisfaction[df.EnvironmentSatisfaction==4]=\"Very High\"\n",
    "\n",
    "df.EnvironmentSatisfaction=pd.Categorical(df.EnvironmentSatisfaction)\n",
    "\n",
    "df.JobInvolvement[df.JobInvolvement==1]=\"Low\"\n",
    "df.JobInvolvement[df.JobInvolvement==2]=\"Medium\"\n",
    "df.JobInvolvement[df.JobInvolvement==3]=\"High\"\n",
    "df.JobInvolvement[df.JobInvolvement==4]=\"Very High\"\n",
    "\n",
    "df.JobInvolvement=pd.Categorical(df.JobInvolvement)\n",
    "\n",
    "df.JobSatisfaction[df.JobSatisfaction==1]=\"Low\"\n",
    "df.JobSatisfaction[df.JobSatisfaction==2]=\"Medium\"\n",
    "df.JobSatisfaction[df.JobSatisfaction==3]=\"High\"\n",
    "df.JobSatisfaction[df.JobSatisfaction==4]=\"Very High\"\n",
    "\n",
    "df.JobSatisfaction=pd.Categorical(df.JobSatisfaction)\n",
    "\n",
    "df.PerformanceRating[df.PerformanceRating==1]=\"Low\"\n",
    "df.PerformanceRating[df.PerformanceRating==2]=\"Good\"\n",
    "df.PerformanceRating[df.PerformanceRating==3]=\"Excellent\"\n",
    "df.PerformanceRating[df.PerformanceRating==4]=\"Outstanding\"\n",
    "\n",
    "df.PerformanceRating=pd.Categorical(df.PerformanceRating)\n",
    "\n",
    "df.RelationshipSatisfaction[df.RelationshipSatisfaction==1]=\"Low\"\n",
    "df.RelationshipSatisfaction[df.RelationshipSatisfaction==2]=\"Medium\"\n",
    "df.RelationshipSatisfaction[df.RelationshipSatisfaction==3]=\"High\"\n",
    "df.RelationshipSatisfaction[df.RelationshipSatisfaction==4]=\"Very High\"\n",
    "\n",
    "df.RelationshipSatisfaction=pd.Categorical(df.RelationshipSatisfaction)\n",
    "\n",
    "df.WorkLifeBalance[df.WorkLifeBalance==1]=\"Bad\"\n",
    "df.WorkLifeBalance[df.WorkLifeBalance==2]=\"Good\"\n",
    "df.WorkLifeBalance[df.WorkLifeBalance==3]=\"Better\"\n",
    "df.WorkLifeBalance[df.WorkLifeBalance==4]=\"Best\"\n",
    "\n",
    "df.WorkLifeBalance=pd.Categorical(df.WorkLifeBalance)"
   ]
  },
  {
   "cell_type": "code",
   "execution_count": 11,
   "id": "cecb988b",
   "metadata": {
    "colab": {
     "base_uri": "https://localhost:8080/"
    },
    "id": "cecb988b",
    "outputId": "2df9782d-b5ca-453f-87c6-bbab6ff2ab39"
   },
   "outputs": [
    {
     "name": "stdout",
     "output_type": "stream",
     "text": [
      "1    1470\n",
      "Name: EmployeeCount, dtype: int64\n",
      "1       1\n",
      "1391    1\n",
      "1389    1\n",
      "1387    1\n",
      "1383    1\n",
      "       ..\n",
      "659     1\n",
      "657     1\n",
      "656     1\n",
      "655     1\n",
      "2068    1\n",
      "Name: EmployeeNumber, Length: 1470, dtype: int64\n",
      "Y    1470\n",
      "Name: Over18, dtype: int64\n",
      "80    1470\n",
      "Name: StandardHours, dtype: int64\n"
     ]
    }
   ],
   "source": [
    "#To remove the columns that do not affect the dependent variable Attrition as they are constant.\n",
    "print(df.EmployeeCount.value_counts())\n",
    "print(df.EmployeeNumber.value_counts())\n",
    "print(df.Over18.value_counts())\n",
    "print(df.StandardHours.value_counts())"
   ]
  },
  {
   "cell_type": "markdown",
   "id": "3d7c924e",
   "metadata": {
    "id": "3d7c924e"
   },
   "source": [
    "The variables EmployeeCount, Over18, StandardHours has only a unique value and the variable EmployeeNumber has 1470 unique values , so these features arent useful for us, so we need to drop them."
   ]
  },
  {
   "cell_type": "code",
   "execution_count": 12,
   "id": "b8a8554a",
   "metadata": {
    "id": "b8a8554a"
   },
   "outputs": [],
   "source": [
    "#To drop the unwanted variables\n",
    "df.drop(['EmployeeCount','EmployeeNumber','Over18','StandardHours'],axis=\"columns\",inplace=True)"
   ]
  },
  {
   "cell_type": "code",
   "execution_count": 13,
   "id": "39b89293",
   "metadata": {
    "colab": {
     "base_uri": "https://localhost:8080/"
    },
    "id": "39b89293",
    "outputId": "412dcd4b-9ff7-414d-fc68-a0c9e9b888b8"
   },
   "outputs": [
    {
     "data": {
      "text/plain": [
       "(1470, 31)"
      ]
     },
     "execution_count": 13,
     "metadata": {},
     "output_type": "execute_result"
    }
   ],
   "source": [
    "df.shape"
   ]
  },
  {
   "cell_type": "markdown",
   "id": "007a7f96",
   "metadata": {
    "colab": {
     "base_uri": "https://localhost:8080/",
     "height": 542
    },
    "id": "24b7de28",
    "outputId": "ae87fa37-10f9-4d52-b23b-0095bac63600"
   },
   "source": [
    "# Visualizing the target variable distribution among the dfset\n",
    "import plotly.express as px\n",
    "fig=px.pie(df,names='Attrition',title='Attrition',template='plotly_dark')\n",
    "fig.update_traces(rotation=90,pull=[0.1],textinfo=\"percent+label\")\n",
    "fig.show()"
   ]
  },
  {
   "cell_type": "markdown",
   "id": "8454a77e",
   "metadata": {
    "id": "8454a77e"
   },
   "source": [
    "83.9% of the total number of employees do not leave or resign of the job but 16.1% of the total employees resign the job."
   ]
  },
  {
   "cell_type": "code",
   "execution_count": 14,
   "id": "4bf18a7c",
   "metadata": {
    "colab": {
     "base_uri": "https://localhost:8080/"
    },
    "id": "4bf18a7c",
    "outputId": "0fa9f445-d19e-4cf2-8692-3f477d31084b"
   },
   "outputs": [
    {
     "data": {
      "text/plain": [
       "0    1233\n",
       "1     237\n",
       "Name: Attrition, dtype: int64"
      ]
     },
     "execution_count": 14,
     "metadata": {},
     "output_type": "execute_result"
    }
   ],
   "source": [
    "#To code the categorical outcome Attrition which is a dependent variable\n",
    "from sklearn import preprocessing\n",
    "label_encoder=preprocessing.LabelEncoder()\n",
    "df['Attrition']=label_encoder.fit_transform(df[\"Attrition\"])\n",
    "df[\"Attrition\"].value_counts()"
   ]
  },
  {
   "cell_type": "code",
   "execution_count": 15,
   "id": "g92pCiwQ4z-Z",
   "metadata": {
    "colab": {
     "base_uri": "https://localhost:8080/",
     "height": 317
    },
    "id": "g92pCiwQ4z-Z",
    "outputId": "67edb67d-2ca4-4912-881f-98d033cb58d1"
   },
   "outputs": [
    {
     "data": {
      "text/html": [
       "<div>\n",
       "<style scoped>\n",
       "    .dataframe tbody tr th:only-of-type {\n",
       "        vertical-align: middle;\n",
       "    }\n",
       "\n",
       "    .dataframe tbody tr th {\n",
       "        vertical-align: top;\n",
       "    }\n",
       "\n",
       "    .dataframe thead th {\n",
       "        text-align: right;\n",
       "    }\n",
       "</style>\n",
       "<table border=\"1\" class=\"dataframe\">\n",
       "  <thead>\n",
       "    <tr style=\"text-align: right;\">\n",
       "      <th></th>\n",
       "      <th>Age</th>\n",
       "      <th>Attrition</th>\n",
       "      <th>DailyRate</th>\n",
       "      <th>DistanceFromHome</th>\n",
       "      <th>HourlyRate</th>\n",
       "      <th>JobLevel</th>\n",
       "      <th>MonthlyIncome</th>\n",
       "      <th>MonthlyRate</th>\n",
       "      <th>NumCompaniesWorked</th>\n",
       "      <th>PercentSalaryHike</th>\n",
       "      <th>...</th>\n",
       "      <th>MaritalStatus_Married</th>\n",
       "      <th>MaritalStatus_Single</th>\n",
       "      <th>OverTime_Yes</th>\n",
       "      <th>PerformanceRating_Outstanding</th>\n",
       "      <th>RelationshipSatisfaction_Low</th>\n",
       "      <th>RelationshipSatisfaction_Medium</th>\n",
       "      <th>RelationshipSatisfaction_Very High</th>\n",
       "      <th>WorkLifeBalance_Best</th>\n",
       "      <th>WorkLifeBalance_Better</th>\n",
       "      <th>WorkLifeBalance_Good</th>\n",
       "    </tr>\n",
       "  </thead>\n",
       "  <tbody>\n",
       "    <tr>\n",
       "      <th>0</th>\n",
       "      <td>41</td>\n",
       "      <td>1</td>\n",
       "      <td>1102</td>\n",
       "      <td>1</td>\n",
       "      <td>94</td>\n",
       "      <td>2</td>\n",
       "      <td>5993</td>\n",
       "      <td>19479</td>\n",
       "      <td>8</td>\n",
       "      <td>11</td>\n",
       "      <td>...</td>\n",
       "      <td>0</td>\n",
       "      <td>1</td>\n",
       "      <td>1</td>\n",
       "      <td>0</td>\n",
       "      <td>1</td>\n",
       "      <td>0</td>\n",
       "      <td>0</td>\n",
       "      <td>0</td>\n",
       "      <td>0</td>\n",
       "      <td>0</td>\n",
       "    </tr>\n",
       "    <tr>\n",
       "      <th>1</th>\n",
       "      <td>49</td>\n",
       "      <td>0</td>\n",
       "      <td>279</td>\n",
       "      <td>8</td>\n",
       "      <td>61</td>\n",
       "      <td>2</td>\n",
       "      <td>5130</td>\n",
       "      <td>24907</td>\n",
       "      <td>1</td>\n",
       "      <td>23</td>\n",
       "      <td>...</td>\n",
       "      <td>1</td>\n",
       "      <td>0</td>\n",
       "      <td>0</td>\n",
       "      <td>1</td>\n",
       "      <td>0</td>\n",
       "      <td>0</td>\n",
       "      <td>1</td>\n",
       "      <td>0</td>\n",
       "      <td>1</td>\n",
       "      <td>0</td>\n",
       "    </tr>\n",
       "    <tr>\n",
       "      <th>2</th>\n",
       "      <td>37</td>\n",
       "      <td>1</td>\n",
       "      <td>1373</td>\n",
       "      <td>2</td>\n",
       "      <td>92</td>\n",
       "      <td>1</td>\n",
       "      <td>2090</td>\n",
       "      <td>2396</td>\n",
       "      <td>6</td>\n",
       "      <td>15</td>\n",
       "      <td>...</td>\n",
       "      <td>0</td>\n",
       "      <td>1</td>\n",
       "      <td>1</td>\n",
       "      <td>0</td>\n",
       "      <td>0</td>\n",
       "      <td>1</td>\n",
       "      <td>0</td>\n",
       "      <td>0</td>\n",
       "      <td>1</td>\n",
       "      <td>0</td>\n",
       "    </tr>\n",
       "    <tr>\n",
       "      <th>3</th>\n",
       "      <td>33</td>\n",
       "      <td>0</td>\n",
       "      <td>1392</td>\n",
       "      <td>3</td>\n",
       "      <td>56</td>\n",
       "      <td>1</td>\n",
       "      <td>2909</td>\n",
       "      <td>23159</td>\n",
       "      <td>1</td>\n",
       "      <td>11</td>\n",
       "      <td>...</td>\n",
       "      <td>1</td>\n",
       "      <td>0</td>\n",
       "      <td>1</td>\n",
       "      <td>0</td>\n",
       "      <td>0</td>\n",
       "      <td>0</td>\n",
       "      <td>0</td>\n",
       "      <td>0</td>\n",
       "      <td>1</td>\n",
       "      <td>0</td>\n",
       "    </tr>\n",
       "    <tr>\n",
       "      <th>4</th>\n",
       "      <td>27</td>\n",
       "      <td>0</td>\n",
       "      <td>591</td>\n",
       "      <td>2</td>\n",
       "      <td>40</td>\n",
       "      <td>1</td>\n",
       "      <td>3468</td>\n",
       "      <td>16632</td>\n",
       "      <td>9</td>\n",
       "      <td>12</td>\n",
       "      <td>...</td>\n",
       "      <td>1</td>\n",
       "      <td>0</td>\n",
       "      <td>0</td>\n",
       "      <td>0</td>\n",
       "      <td>0</td>\n",
       "      <td>0</td>\n",
       "      <td>1</td>\n",
       "      <td>0</td>\n",
       "      <td>1</td>\n",
       "      <td>0</td>\n",
       "    </tr>\n",
       "  </tbody>\n",
       "</table>\n",
       "<p>5 rows × 58 columns</p>\n",
       "</div>"
      ],
      "text/plain": [
       "   Age  Attrition  DailyRate  DistanceFromHome  HourlyRate  JobLevel  \\\n",
       "0   41          1       1102                 1          94         2   \n",
       "1   49          0        279                 8          61         2   \n",
       "2   37          1       1373                 2          92         1   \n",
       "3   33          0       1392                 3          56         1   \n",
       "4   27          0        591                 2          40         1   \n",
       "\n",
       "   MonthlyIncome  MonthlyRate  NumCompaniesWorked  PercentSalaryHike  ...  \\\n",
       "0           5993        19479                   8                 11  ...   \n",
       "1           5130        24907                   1                 23  ...   \n",
       "2           2090         2396                   6                 15  ...   \n",
       "3           2909        23159                   1                 11  ...   \n",
       "4           3468        16632                   9                 12  ...   \n",
       "\n",
       "   MaritalStatus_Married  MaritalStatus_Single  OverTime_Yes  \\\n",
       "0                      0                     1             1   \n",
       "1                      1                     0             0   \n",
       "2                      0                     1             1   \n",
       "3                      1                     0             1   \n",
       "4                      1                     0             0   \n",
       "\n",
       "   PerformanceRating_Outstanding  RelationshipSatisfaction_Low  \\\n",
       "0                              0                             1   \n",
       "1                              1                             0   \n",
       "2                              0                             0   \n",
       "3                              0                             0   \n",
       "4                              0                             0   \n",
       "\n",
       "   RelationshipSatisfaction_Medium  RelationshipSatisfaction_Very High  \\\n",
       "0                                0                                   0   \n",
       "1                                0                                   1   \n",
       "2                                1                                   0   \n",
       "3                                0                                   0   \n",
       "4                                0                                   1   \n",
       "\n",
       "   WorkLifeBalance_Best  WorkLifeBalance_Better  WorkLifeBalance_Good  \n",
       "0                     0                       0                     0  \n",
       "1                     0                       1                     0  \n",
       "2                     0                       1                     0  \n",
       "3                     0                       1                     0  \n",
       "4                     0                       1                     0  \n",
       "\n",
       "[5 rows x 58 columns]"
      ]
     },
     "execution_count": 15,
     "metadata": {},
     "output_type": "execute_result"
    }
   ],
   "source": [
    "#To code the categorical independent variables using dummy variables\n",
    "df1=pd.get_dummies(df,drop_first=True)\n",
    "df1.head()"
   ]
  },
  {
   "cell_type": "code",
   "execution_count": 16,
   "id": "D93jRn6A43Z-",
   "metadata": {
    "colab": {
     "base_uri": "https://localhost:8080/",
     "height": 505
    },
    "id": "D93jRn6A43Z-",
    "outputId": "28c66d2c-db70-47a8-d6c3-d03eb970eacc"
   },
   "outputs": [
    {
     "data": {
      "text/html": [
       "<div>\n",
       "<style scoped>\n",
       "    .dataframe tbody tr th:only-of-type {\n",
       "        vertical-align: middle;\n",
       "    }\n",
       "\n",
       "    .dataframe tbody tr th {\n",
       "        vertical-align: top;\n",
       "    }\n",
       "\n",
       "    .dataframe thead th {\n",
       "        text-align: right;\n",
       "    }\n",
       "</style>\n",
       "<table border=\"1\" class=\"dataframe\">\n",
       "  <thead>\n",
       "    <tr style=\"text-align: right;\">\n",
       "      <th></th>\n",
       "      <th>Attrition</th>\n",
       "      <th>DailyRate</th>\n",
       "      <th>DistanceFromHome</th>\n",
       "      <th>HourlyRate</th>\n",
       "      <th>JobLevel</th>\n",
       "      <th>MonthlyIncome</th>\n",
       "      <th>MonthlyRate</th>\n",
       "      <th>NumCompaniesWorked</th>\n",
       "      <th>PercentSalaryHike</th>\n",
       "      <th>StockOptionLevel</th>\n",
       "      <th>...</th>\n",
       "      <th>MaritalStatus_Single</th>\n",
       "      <th>OverTime_Yes</th>\n",
       "      <th>PerformanceRating_Outstanding</th>\n",
       "      <th>RelationshipSatisfaction_Low</th>\n",
       "      <th>RelationshipSatisfaction_Medium</th>\n",
       "      <th>RelationshipSatisfaction_Very High</th>\n",
       "      <th>WorkLifeBalance_Best</th>\n",
       "      <th>WorkLifeBalance_Better</th>\n",
       "      <th>WorkLifeBalance_Good</th>\n",
       "      <th>Age_yrs</th>\n",
       "    </tr>\n",
       "  </thead>\n",
       "  <tbody>\n",
       "    <tr>\n",
       "      <th>0</th>\n",
       "      <td>1</td>\n",
       "      <td>1102</td>\n",
       "      <td>1</td>\n",
       "      <td>94</td>\n",
       "      <td>2</td>\n",
       "      <td>5993</td>\n",
       "      <td>19479</td>\n",
       "      <td>8</td>\n",
       "      <td>11</td>\n",
       "      <td>0</td>\n",
       "      <td>...</td>\n",
       "      <td>1</td>\n",
       "      <td>1</td>\n",
       "      <td>0</td>\n",
       "      <td>1</td>\n",
       "      <td>0</td>\n",
       "      <td>0</td>\n",
       "      <td>0</td>\n",
       "      <td>0</td>\n",
       "      <td>0</td>\n",
       "      <td>41</td>\n",
       "    </tr>\n",
       "    <tr>\n",
       "      <th>1</th>\n",
       "      <td>0</td>\n",
       "      <td>279</td>\n",
       "      <td>8</td>\n",
       "      <td>61</td>\n",
       "      <td>2</td>\n",
       "      <td>5130</td>\n",
       "      <td>24907</td>\n",
       "      <td>1</td>\n",
       "      <td>23</td>\n",
       "      <td>1</td>\n",
       "      <td>...</td>\n",
       "      <td>0</td>\n",
       "      <td>0</td>\n",
       "      <td>1</td>\n",
       "      <td>0</td>\n",
       "      <td>0</td>\n",
       "      <td>1</td>\n",
       "      <td>0</td>\n",
       "      <td>1</td>\n",
       "      <td>0</td>\n",
       "      <td>49</td>\n",
       "    </tr>\n",
       "    <tr>\n",
       "      <th>2</th>\n",
       "      <td>1</td>\n",
       "      <td>1373</td>\n",
       "      <td>2</td>\n",
       "      <td>92</td>\n",
       "      <td>1</td>\n",
       "      <td>2090</td>\n",
       "      <td>2396</td>\n",
       "      <td>6</td>\n",
       "      <td>15</td>\n",
       "      <td>0</td>\n",
       "      <td>...</td>\n",
       "      <td>1</td>\n",
       "      <td>1</td>\n",
       "      <td>0</td>\n",
       "      <td>0</td>\n",
       "      <td>1</td>\n",
       "      <td>0</td>\n",
       "      <td>0</td>\n",
       "      <td>1</td>\n",
       "      <td>0</td>\n",
       "      <td>37</td>\n",
       "    </tr>\n",
       "    <tr>\n",
       "      <th>3</th>\n",
       "      <td>0</td>\n",
       "      <td>1392</td>\n",
       "      <td>3</td>\n",
       "      <td>56</td>\n",
       "      <td>1</td>\n",
       "      <td>2909</td>\n",
       "      <td>23159</td>\n",
       "      <td>1</td>\n",
       "      <td>11</td>\n",
       "      <td>0</td>\n",
       "      <td>...</td>\n",
       "      <td>0</td>\n",
       "      <td>1</td>\n",
       "      <td>0</td>\n",
       "      <td>0</td>\n",
       "      <td>0</td>\n",
       "      <td>0</td>\n",
       "      <td>0</td>\n",
       "      <td>1</td>\n",
       "      <td>0</td>\n",
       "      <td>33</td>\n",
       "    </tr>\n",
       "    <tr>\n",
       "      <th>4</th>\n",
       "      <td>0</td>\n",
       "      <td>591</td>\n",
       "      <td>2</td>\n",
       "      <td>40</td>\n",
       "      <td>1</td>\n",
       "      <td>3468</td>\n",
       "      <td>16632</td>\n",
       "      <td>9</td>\n",
       "      <td>12</td>\n",
       "      <td>1</td>\n",
       "      <td>...</td>\n",
       "      <td>0</td>\n",
       "      <td>0</td>\n",
       "      <td>0</td>\n",
       "      <td>0</td>\n",
       "      <td>0</td>\n",
       "      <td>1</td>\n",
       "      <td>0</td>\n",
       "      <td>1</td>\n",
       "      <td>0</td>\n",
       "      <td>27</td>\n",
       "    </tr>\n",
       "    <tr>\n",
       "      <th>...</th>\n",
       "      <td>...</td>\n",
       "      <td>...</td>\n",
       "      <td>...</td>\n",
       "      <td>...</td>\n",
       "      <td>...</td>\n",
       "      <td>...</td>\n",
       "      <td>...</td>\n",
       "      <td>...</td>\n",
       "      <td>...</td>\n",
       "      <td>...</td>\n",
       "      <td>...</td>\n",
       "      <td>...</td>\n",
       "      <td>...</td>\n",
       "      <td>...</td>\n",
       "      <td>...</td>\n",
       "      <td>...</td>\n",
       "      <td>...</td>\n",
       "      <td>...</td>\n",
       "      <td>...</td>\n",
       "      <td>...</td>\n",
       "      <td>...</td>\n",
       "    </tr>\n",
       "    <tr>\n",
       "      <th>1465</th>\n",
       "      <td>0</td>\n",
       "      <td>884</td>\n",
       "      <td>23</td>\n",
       "      <td>41</td>\n",
       "      <td>2</td>\n",
       "      <td>2571</td>\n",
       "      <td>12290</td>\n",
       "      <td>4</td>\n",
       "      <td>17</td>\n",
       "      <td>1</td>\n",
       "      <td>...</td>\n",
       "      <td>0</td>\n",
       "      <td>0</td>\n",
       "      <td>0</td>\n",
       "      <td>0</td>\n",
       "      <td>0</td>\n",
       "      <td>0</td>\n",
       "      <td>0</td>\n",
       "      <td>1</td>\n",
       "      <td>0</td>\n",
       "      <td>36</td>\n",
       "    </tr>\n",
       "    <tr>\n",
       "      <th>1466</th>\n",
       "      <td>0</td>\n",
       "      <td>613</td>\n",
       "      <td>6</td>\n",
       "      <td>42</td>\n",
       "      <td>3</td>\n",
       "      <td>9991</td>\n",
       "      <td>21457</td>\n",
       "      <td>4</td>\n",
       "      <td>15</td>\n",
       "      <td>1</td>\n",
       "      <td>...</td>\n",
       "      <td>0</td>\n",
       "      <td>0</td>\n",
       "      <td>0</td>\n",
       "      <td>1</td>\n",
       "      <td>0</td>\n",
       "      <td>0</td>\n",
       "      <td>0</td>\n",
       "      <td>1</td>\n",
       "      <td>0</td>\n",
       "      <td>39</td>\n",
       "    </tr>\n",
       "    <tr>\n",
       "      <th>1467</th>\n",
       "      <td>0</td>\n",
       "      <td>155</td>\n",
       "      <td>4</td>\n",
       "      <td>87</td>\n",
       "      <td>2</td>\n",
       "      <td>6142</td>\n",
       "      <td>5174</td>\n",
       "      <td>1</td>\n",
       "      <td>20</td>\n",
       "      <td>1</td>\n",
       "      <td>...</td>\n",
       "      <td>0</td>\n",
       "      <td>1</td>\n",
       "      <td>1</td>\n",
       "      <td>0</td>\n",
       "      <td>1</td>\n",
       "      <td>0</td>\n",
       "      <td>0</td>\n",
       "      <td>1</td>\n",
       "      <td>0</td>\n",
       "      <td>27</td>\n",
       "    </tr>\n",
       "    <tr>\n",
       "      <th>1468</th>\n",
       "      <td>0</td>\n",
       "      <td>1023</td>\n",
       "      <td>2</td>\n",
       "      <td>63</td>\n",
       "      <td>2</td>\n",
       "      <td>5390</td>\n",
       "      <td>13243</td>\n",
       "      <td>2</td>\n",
       "      <td>14</td>\n",
       "      <td>0</td>\n",
       "      <td>...</td>\n",
       "      <td>0</td>\n",
       "      <td>0</td>\n",
       "      <td>0</td>\n",
       "      <td>0</td>\n",
       "      <td>0</td>\n",
       "      <td>1</td>\n",
       "      <td>0</td>\n",
       "      <td>0</td>\n",
       "      <td>1</td>\n",
       "      <td>49</td>\n",
       "    </tr>\n",
       "    <tr>\n",
       "      <th>1469</th>\n",
       "      <td>0</td>\n",
       "      <td>628</td>\n",
       "      <td>8</td>\n",
       "      <td>82</td>\n",
       "      <td>2</td>\n",
       "      <td>4404</td>\n",
       "      <td>10228</td>\n",
       "      <td>2</td>\n",
       "      <td>12</td>\n",
       "      <td>0</td>\n",
       "      <td>...</td>\n",
       "      <td>0</td>\n",
       "      <td>0</td>\n",
       "      <td>0</td>\n",
       "      <td>1</td>\n",
       "      <td>0</td>\n",
       "      <td>0</td>\n",
       "      <td>1</td>\n",
       "      <td>0</td>\n",
       "      <td>0</td>\n",
       "      <td>34</td>\n",
       "    </tr>\n",
       "  </tbody>\n",
       "</table>\n",
       "<p>1470 rows × 58 columns</p>\n",
       "</div>"
      ],
      "text/plain": [
       "      Attrition  DailyRate  DistanceFromHome  HourlyRate  JobLevel  \\\n",
       "0             1       1102                 1          94         2   \n",
       "1             0        279                 8          61         2   \n",
       "2             1       1373                 2          92         1   \n",
       "3             0       1392                 3          56         1   \n",
       "4             0        591                 2          40         1   \n",
       "...         ...        ...               ...         ...       ...   \n",
       "1465          0        884                23          41         2   \n",
       "1466          0        613                 6          42         3   \n",
       "1467          0        155                 4          87         2   \n",
       "1468          0       1023                 2          63         2   \n",
       "1469          0        628                 8          82         2   \n",
       "\n",
       "      MonthlyIncome  MonthlyRate  NumCompaniesWorked  PercentSalaryHike  \\\n",
       "0              5993        19479                   8                 11   \n",
       "1              5130        24907                   1                 23   \n",
       "2              2090         2396                   6                 15   \n",
       "3              2909        23159                   1                 11   \n",
       "4              3468        16632                   9                 12   \n",
       "...             ...          ...                 ...                ...   \n",
       "1465           2571        12290                   4                 17   \n",
       "1466           9991        21457                   4                 15   \n",
       "1467           6142         5174                   1                 20   \n",
       "1468           5390        13243                   2                 14   \n",
       "1469           4404        10228                   2                 12   \n",
       "\n",
       "      StockOptionLevel  ...  MaritalStatus_Single  OverTime_Yes  \\\n",
       "0                    0  ...                     1             1   \n",
       "1                    1  ...                     0             0   \n",
       "2                    0  ...                     1             1   \n",
       "3                    0  ...                     0             1   \n",
       "4                    1  ...                     0             0   \n",
       "...                ...  ...                   ...           ...   \n",
       "1465                 1  ...                     0             0   \n",
       "1466                 1  ...                     0             0   \n",
       "1467                 1  ...                     0             1   \n",
       "1468                 0  ...                     0             0   \n",
       "1469                 0  ...                     0             0   \n",
       "\n",
       "      PerformanceRating_Outstanding  RelationshipSatisfaction_Low  \\\n",
       "0                                 0                             1   \n",
       "1                                 1                             0   \n",
       "2                                 0                             0   \n",
       "3                                 0                             0   \n",
       "4                                 0                             0   \n",
       "...                             ...                           ...   \n",
       "1465                              0                             0   \n",
       "1466                              0                             1   \n",
       "1467                              1                             0   \n",
       "1468                              0                             0   \n",
       "1469                              0                             1   \n",
       "\n",
       "      RelationshipSatisfaction_Medium  RelationshipSatisfaction_Very High  \\\n",
       "0                                   0                                   0   \n",
       "1                                   0                                   1   \n",
       "2                                   1                                   0   \n",
       "3                                   0                                   0   \n",
       "4                                   0                                   1   \n",
       "...                               ...                                 ...   \n",
       "1465                                0                                   0   \n",
       "1466                                0                                   0   \n",
       "1467                                1                                   0   \n",
       "1468                                0                                   1   \n",
       "1469                                0                                   0   \n",
       "\n",
       "      WorkLifeBalance_Best  WorkLifeBalance_Better  WorkLifeBalance_Good  \\\n",
       "0                        0                       0                     0   \n",
       "1                        0                       1                     0   \n",
       "2                        0                       1                     0   \n",
       "3                        0                       1                     0   \n",
       "4                        0                       1                     0   \n",
       "...                    ...                     ...                   ...   \n",
       "1465                     0                       1                     0   \n",
       "1466                     0                       1                     0   \n",
       "1467                     0                       1                     0   \n",
       "1468                     0                       0                     1   \n",
       "1469                     1                       0                     0   \n",
       "\n",
       "      Age_yrs  \n",
       "0          41  \n",
       "1          49  \n",
       "2          37  \n",
       "3          33  \n",
       "4          27  \n",
       "...       ...  \n",
       "1465       36  \n",
       "1466       39  \n",
       "1467       27  \n",
       "1468       49  \n",
       "1469       34  \n",
       "\n",
       "[1470 rows x 58 columns]"
      ]
     },
     "execution_count": 16,
     "metadata": {},
     "output_type": "execute_result"
    }
   ],
   "source": [
    "#Create a column at the end of the dfframe that contains the same value as 'Age'\n",
    "df1['Age_yrs']=df1['Age']\n",
    "#Remove the first original column called 'AGE'\n",
    "df1=df1.drop('Age',axis=1)\n",
    "df1"
   ]
  },
  {
   "cell_type": "code",
   "execution_count": 17,
   "id": "fdabc8c3",
   "metadata": {
    "colab": {
     "base_uri": "https://localhost:8080/",
     "height": 487
    },
    "id": "fdabc8c3",
    "outputId": "a66e81a2-56d1-4a28-ca5b-299d819a6530"
   },
   "outputs": [
    {
     "data": {
      "image/png": "[encoded data removed]",
      "text/plain": [
       "<Figure size 640x480 with 1 Axes>"
      ]
     },
     "metadata": {},
     "output_type": "display_data"
    }
   ],
   "source": [
    "#To see whether Salary plays a important role in attrition\n",
    "sns.boxplot(x=df[\"MonthlyIncome\"] ,y=df[\"JobRole\"])\n",
    "plt.grid(True,alpha=1)\n",
    "plt.tight_layout()\n",
    "plt.show()"
   ]
  },
  {
   "cell_type": "markdown",
   "id": "58a81cf2",
   "metadata": {
    "id": "58a81cf2"
   },
   "source": [
    "The employees at the post of Manager and Research Directors are having a high salary so there is no attrition among these employees. The Employees at the post of ResearchScientist, Laboratory Technician, Sales Representative, Human Sources have a very low monthly income so they are highly resigning the job."
   ]
  },
  {
   "cell_type": "markdown",
   "id": "8a0bca38",
   "metadata": {
    "id": "8a0bca38"
   },
   "source": [
    "# The process of data Splitting"
   ]
  },
  {
   "cell_type": "code",
   "execution_count": 18,
   "id": "e17b462f",
   "metadata": {
    "id": "e17b462f"
   },
   "outputs": [],
   "source": [
    "#Splitting the dataset\n",
    "x=df1.drop('Attrition',axis=1)\n",
    "y=df1.Attrition"
   ]
  },
  {
   "cell_type": "code",
   "execution_count": 19,
   "id": "fd32dcf6",
   "metadata": {
    "colab": {
     "base_uri": "https://localhost:8080/"
    },
    "id": "fd32dcf6",
    "outputId": "0337dc07-19a7-45cd-e345-c1a2b94e809b"
   },
   "outputs": [
    {
     "name": "stdout",
     "output_type": "stream",
     "text": [
      "x train.size: 1176\n",
      "x test.size: 294\n",
      "y train size: 1176\n",
      "y test size: 294\n"
     ]
    }
   ],
   "source": [
    "#Splitting data into train and test sets\n",
    "from sklearn.model_selection import train_test_split\n",
    "x_train,x_test,y_train,y_test=train_test_split(x,y,test_size=0.20,random_state=4)\n",
    "print('x train.size:',len(x_train))\n",
    "print('x test.size:',len(x_test))\n",
    "print('y train size:',len(y_train))\n",
    "print('y test size:',len(y_test))"
   ]
  },
  {
   "cell_type": "code",
   "execution_count": 20,
   "id": "25dc6ea4",
   "metadata": {
    "id": "25dc6ea4"
   },
   "outputs": [],
   "source": [
    "#Scaling of the continuos features\n",
    "from sklearn.preprocessing import MinMaxScaler\n",
    "Scaler=MinMaxScaler()\n",
    "Scale_col=['Age_yrs','DailyRate','DistanceFromHome','HourlyRate','MonthlyIncome','MonthlyRate','NumCompaniesWorked','PercentSalaryHike','TotalWorkingYears','TrainingTimesLastYear','YearsAtCompany','YearsInCurrentRole','YearsSinceLastPromotion']\n",
    "x_train[Scale_col]=Scaler.fit_transform(x_train[Scale_col])\n",
    "x_test[Scale_col]=Scaler.transform(x_test[Scale_col])"
   ]
  },
  {
   "cell_type": "code",
   "execution_count": 21,
   "id": "423e04a5",
   "metadata": {
    "colab": {
     "base_uri": "https://localhost:8080/"
    },
    "id": "423e04a5",
    "outputId": "1e936364-651b-48a9-d040-28813775b333"
   },
   "outputs": [
    {
     "name": "stdout",
     "output_type": "stream",
     "text": [
      "0    982\n",
      "1    194\n",
      "Name: Attrition, dtype: int64\n",
      "0    251\n",
      "1     43\n",
      "Name: Attrition, dtype: int64\n"
     ]
    }
   ],
   "source": [
    "print(y_train.value_counts())\n",
    "print(y_test.value_counts())"
   ]
  },
  {
   "cell_type": "markdown",
   "id": "2820363d",
   "metadata": {
    "id": "2820363d"
   },
   "source": [
    "It is observed that the target variable is highly imbalance, with much No values of Attrition than Yes.\n",
    "\n",
    "The SMOTE Technique is used which creates synthetically more Yes values so that both class prefer equal distribution during training. I used oversampling of minor class since undersampling of major class may result in loss of relevant data."
   ]
  },
  {
   "cell_type": "code",
   "execution_count": 22,
   "id": "31e26395",
   "metadata": {
    "colab": {
     "base_uri": "https://localhost:8080/"
    },
    "id": "31e26395",
    "outputId": "d991b115-d41e-4176-f45e-92537d50db96"
   },
   "outputs": [
    {
     "name": "stdout",
     "output_type": "stream",
     "text": [
      "Requirement already satisfied: imblearn in c:\\users\\admin\\anaconda3\\lib\\site-packages (0.0)\n",
      "Requirement already satisfied: imbalanced-learn in c:\\users\\admin\\anaconda3\\lib\\site-packages (from imblearn) (0.10.1)\n",
      "Requirement already satisfied: joblib>=1.1.1 in c:\\users\\admin\\anaconda3\\lib\\site-packages (from imbalanced-learn->imblearn) (1.1.1)\n",
      "Requirement already satisfied: scikit-learn>=1.0.2 in c:\\users\\admin\\anaconda3\\lib\\site-packages (from imbalanced-learn->imblearn) (1.2.1)\n",
      "Requirement already satisfied: scipy>=1.3.2 in c:\\users\\admin\\anaconda3\\lib\\site-packages (from imbalanced-learn->imblearn) (1.10.0)\n",
      "Requirement already satisfied: threadpoolctl>=2.0.0 in c:\\users\\admin\\anaconda3\\lib\\site-packages (from imbalanced-learn->imblearn) (2.2.0)\n",
      "Requirement already satisfied: numpy>=1.17.3 in c:\\users\\admin\\anaconda3\\lib\\site-packages (from imbalanced-learn->imblearn) (1.23.5)\n",
      "Note: you may need to restart the kernel to use updated packages.\n"
     ]
    }
   ],
   "source": [
    "pip install imblearn"
   ]
  },
  {
   "cell_type": "code",
   "execution_count": 23,
   "id": "ef55c951",
   "metadata": {
    "id": "ef55c951"
   },
   "outputs": [],
   "source": [
    "#Using SMOTE Technique\n",
    "from imblearn.over_sampling import SMOTE\n",
    "x_train,y_train=SMOTE().fit_resample(x_train,y_train)"
   ]
  },
  {
   "cell_type": "markdown",
   "id": "IMuFlv9p5TOE",
   "metadata": {
    "id": "IMuFlv9p5TOE"
   },
   "source": [
    "The technique has created the synthetic samples so that the target variable is completely balanced and we can perform further analysis."
   ]
  },
  {
   "cell_type": "code",
   "execution_count": 24,
   "id": "bl7BedtZ5Urn",
   "metadata": {
    "id": "bl7BedtZ5Urn"
   },
   "outputs": [],
   "source": [
    "#Logistic Regression\n",
    "#To determine whether the employee leaves the job or not i.e. Attrition which is dependent and binary categorical variable so we perform Logistic Regression\n",
    "from sklearn.linear_model import LogisticRegression"
   ]
  },
  {
   "cell_type": "code",
   "execution_count": 25,
   "id": "JRWdAw6n5wmt",
   "metadata": {
    "colab": {
     "base_uri": "https://localhost:8080/",
     "height": 75
    },
    "id": "JRWdAw6n5wmt",
    "outputId": "4e0f1c12-0d22-4265-f774-b56be54f8a54"
   },
   "outputs": [
    {
     "data": {
      "text/html": [
       "<style>#sk-container-id-1 {color: black;background-color: white;}#sk-container-id-1 pre{padding: 0;}#sk-container-id-1 div.sk-toggleable {background-color: white;}#sk-container-id-1 label.sk-toggleable__label {cursor: pointer;display: block;width: 100%;margin-bottom: 0;padding: 0.3em;box-sizing: border-box;text-align: center;}#sk-container-id-1 label.sk-toggleable__label-arrow:before {content: \"▸\";float: left;margin-right: 0.25em;color: #696969;}#sk-container-id-1 label.sk-toggleable__label-arrow:hover:before {color: black;}#sk-container-id-1 div.sk-estimator:hover label.sk-toggleable__label-arrow:before {color: black;}#sk-container-id-1 div.sk-toggleable__content {max-height: 0;max-width: 0;overflow: hidden;text-align: left;background-color: #f0f8ff;}#sk-container-id-1 div.sk-toggleable__content pre {margin: 0.2em;color: black;border-radius: 0.25em;background-color: #f0f8ff;}#sk-container-id-1 input.sk-toggleable__control:checked~div.sk-toggleable__content {max-height: 200px;max-width: 100%;overflow: auto;}#sk-container-id-1 input.sk-toggleable__control:checked~label.sk-toggleable__label-arrow:before {content: \"▾\";}#sk-container-id-1 div.sk-estimator input.sk-toggleable__control:checked~label.sk-toggleable__label {background-color: #d4ebff;}#sk-container-id-1 div.sk-label input.sk-toggleable__control:checked~label.sk-toggleable__label {background-color: #d4ebff;}#sk-container-id-1 input.sk-hidden--visually {border: 0;clip: rect(1px 1px 1px 1px);clip: rect(1px, 1px, 1px, 1px);height: 1px;margin: -1px;overflow: hidden;padding: 0;position: absolute;width: 1px;}#sk-container-id-1 div.sk-estimator {font-family: monospace;background-color: #f0f8ff;border: 1px dotted black;border-radius: 0.25em;box-sizing: border-box;margin-bottom: 0.5em;}#sk-container-id-1 div.sk-estimator:hover {background-color: #d4ebff;}#sk-container-id-1 div.sk-parallel-item::after {content: \"\";width: 100%;border-bottom: 1px solid gray;flex-grow: 1;}#sk-container-id-1 div.sk-label:hover label.sk-toggleable__label {background-color: #d4ebff;}#sk-container-id-1 div.sk-serial::before {content: \"\";position: absolute;border-left: 1px solid gray;box-sizing: border-box;top: 0;bottom: 0;left: 50%;z-index: 0;}#sk-container-id-1 div.sk-serial {display: flex;flex-direction: column;align-items: center;background-color: white;padding-right: 0.2em;padding-left: 0.2em;position: relative;}#sk-container-id-1 div.sk-item {position: relative;z-index: 1;}#sk-container-id-1 div.sk-parallel {display: flex;align-items: stretch;justify-content: center;background-color: white;position: relative;}#sk-container-id-1 div.sk-item::before, #sk-container-id-1 div.sk-parallel-item::before {content: \"\";position: absolute;border-left: 1px solid gray;box-sizing: border-box;top: 0;bottom: 0;left: 50%;z-index: -1;}#sk-container-id-1 div.sk-parallel-item {display: flex;flex-direction: column;z-index: 1;position: relative;background-color: white;}#sk-container-id-1 div.sk-parallel-item:first-child::after {align-self: flex-end;width: 50%;}#sk-container-id-1 div.sk-parallel-item:last-child::after {align-self: flex-start;width: 50%;}#sk-container-id-1 div.sk-parallel-item:only-child::after {width: 0;}#sk-container-id-1 div.sk-dashed-wrapped {border: 1px dashed gray;margin: 0 0.4em 0.5em 0.4em;box-sizing: border-box;padding-bottom: 0.4em;background-color: white;}#sk-container-id-1 div.sk-label label {font-family: monospace;font-weight: bold;display: inline-block;line-height: 1.2em;}#sk-container-id-1 div.sk-label-container {text-align: center;}#sk-container-id-1 div.sk-container {/* jupyter's `normalize.less` sets `[hidden] { display: none; }` but bootstrap.min.css set `[hidden] { display: none !important; }` so we also need the `!important` here to be able to override the default hidden behavior on the sphinx rendered scikit-learn.org. See: https://github.com/scikit-learn/scikit-learn/issues/21755 */display: inline-block !important;position: relative;}#sk-container-id-1 div.sk-text-repr-fallback {display: none;}</style><div id=\"sk-container-id-1\" class=\"sk-top-container\"><div class=\"sk-text-repr-fallback\"><pre>LogisticRegression(random_state=109)</pre><b>In a Jupyter environment, please rerun this cell to show the HTML representation or trust the notebook. <br />On GitHub, the HTML representation is unable to render, please try loading this page with nbviewer.org.</b></div><div class=\"sk-container\" hidden><div class=\"sk-item\"><div class=\"sk-estimator sk-toggleable\"><input class=\"sk-toggleable__control sk-hidden--visually\" id=\"sk-estimator-id-1\" type=\"checkbox\" checked><label for=\"sk-estimator-id-1\" class=\"sk-toggleable__label sk-toggleable__label-arrow\">LogisticRegression</label><div class=\"sk-toggleable__content\"><pre>LogisticRegression(random_state=109)</pre></div></div></div></div></div>"
      ],
      "text/plain": [
       "LogisticRegression(random_state=109)"
      ]
     },
     "execution_count": 25,
     "metadata": {},
     "output_type": "execute_result"
    }
   ],
   "source": [
    "#To call the classifier and fit the model\n",
    "model=LogisticRegression(random_state=109)\n",
    "model.fit(x_train,y_train)"
   ]
  },
  {
   "cell_type": "code",
   "execution_count": 26,
   "id": "pV1Ig58J53AZ",
   "metadata": {
    "colab": {
     "base_uri": "https://localhost:8080/",
     "height": 1000
    },
    "id": "pV1Ig58J53AZ",
    "outputId": "1dd39533-40dd-42c2-9d17-64f175bf700c"
   },
   "outputs": [
    {
     "data": {
      "text/html": [
       "<div>\n",
       "<style scoped>\n",
       "    .dataframe tbody tr th:only-of-type {\n",
       "        vertical-align: middle;\n",
       "    }\n",
       "\n",
       "    .dataframe tbody tr th {\n",
       "        vertical-align: top;\n",
       "    }\n",
       "\n",
       "    .dataframe thead th {\n",
       "        text-align: right;\n",
       "    }\n",
       "</style>\n",
       "<table border=\"1\" class=\"dataframe\">\n",
       "  <thead>\n",
       "    <tr style=\"text-align: right;\">\n",
       "      <th></th>\n",
       "      <th>actual</th>\n",
       "      <th>predicted</th>\n",
       "    </tr>\n",
       "  </thead>\n",
       "  <tbody>\n",
       "    <tr>\n",
       "      <th>943</th>\n",
       "      <td>0</td>\n",
       "      <td>0</td>\n",
       "    </tr>\n",
       "    <tr>\n",
       "      <th>577</th>\n",
       "      <td>0</td>\n",
       "      <td>0</td>\n",
       "    </tr>\n",
       "    <tr>\n",
       "      <th>786</th>\n",
       "      <td>0</td>\n",
       "      <td>0</td>\n",
       "    </tr>\n",
       "    <tr>\n",
       "      <th>1378</th>\n",
       "      <td>0</td>\n",
       "      <td>0</td>\n",
       "    </tr>\n",
       "    <tr>\n",
       "      <th>926</th>\n",
       "      <td>0</td>\n",
       "      <td>0</td>\n",
       "    </tr>\n",
       "    <tr>\n",
       "      <th>1361</th>\n",
       "      <td>0</td>\n",
       "      <td>0</td>\n",
       "    </tr>\n",
       "    <tr>\n",
       "      <th>1092</th>\n",
       "      <td>0</td>\n",
       "      <td>0</td>\n",
       "    </tr>\n",
       "    <tr>\n",
       "      <th>1010</th>\n",
       "      <td>0</td>\n",
       "      <td>0</td>\n",
       "    </tr>\n",
       "    <tr>\n",
       "      <th>853</th>\n",
       "      <td>0</td>\n",
       "      <td>0</td>\n",
       "    </tr>\n",
       "    <tr>\n",
       "      <th>162</th>\n",
       "      <td>0</td>\n",
       "      <td>1</td>\n",
       "    </tr>\n",
       "    <tr>\n",
       "      <th>816</th>\n",
       "      <td>0</td>\n",
       "      <td>1</td>\n",
       "    </tr>\n",
       "    <tr>\n",
       "      <th>1421</th>\n",
       "      <td>0</td>\n",
       "      <td>0</td>\n",
       "    </tr>\n",
       "    <tr>\n",
       "      <th>656</th>\n",
       "      <td>1</td>\n",
       "      <td>1</td>\n",
       "    </tr>\n",
       "    <tr>\n",
       "      <th>132</th>\n",
       "      <td>1</td>\n",
       "      <td>1</td>\n",
       "    </tr>\n",
       "    <tr>\n",
       "      <th>1144</th>\n",
       "      <td>0</td>\n",
       "      <td>0</td>\n",
       "    </tr>\n",
       "    <tr>\n",
       "      <th>893</th>\n",
       "      <td>0</td>\n",
       "      <td>0</td>\n",
       "    </tr>\n",
       "    <tr>\n",
       "      <th>663</th>\n",
       "      <td>1</td>\n",
       "      <td>0</td>\n",
       "    </tr>\n",
       "    <tr>\n",
       "      <th>1299</th>\n",
       "      <td>0</td>\n",
       "      <td>0</td>\n",
       "    </tr>\n",
       "    <tr>\n",
       "      <th>1446</th>\n",
       "      <td>0</td>\n",
       "      <td>0</td>\n",
       "    </tr>\n",
       "    <tr>\n",
       "      <th>1417</th>\n",
       "      <td>0</td>\n",
       "      <td>0</td>\n",
       "    </tr>\n",
       "    <tr>\n",
       "      <th>1148</th>\n",
       "      <td>0</td>\n",
       "      <td>0</td>\n",
       "    </tr>\n",
       "    <tr>\n",
       "      <th>113</th>\n",
       "      <td>0</td>\n",
       "      <td>0</td>\n",
       "    </tr>\n",
       "    <tr>\n",
       "      <th>1237</th>\n",
       "      <td>1</td>\n",
       "      <td>0</td>\n",
       "    </tr>\n",
       "    <tr>\n",
       "      <th>1360</th>\n",
       "      <td>0</td>\n",
       "      <td>0</td>\n",
       "    </tr>\n",
       "    <tr>\n",
       "      <th>1129</th>\n",
       "      <td>0</td>\n",
       "      <td>0</td>\n",
       "    </tr>\n",
       "    <tr>\n",
       "      <th>102</th>\n",
       "      <td>1</td>\n",
       "      <td>0</td>\n",
       "    </tr>\n",
       "    <tr>\n",
       "      <th>1367</th>\n",
       "      <td>0</td>\n",
       "      <td>0</td>\n",
       "    </tr>\n",
       "    <tr>\n",
       "      <th>406</th>\n",
       "      <td>0</td>\n",
       "      <td>0</td>\n",
       "    </tr>\n",
       "    <tr>\n",
       "      <th>374</th>\n",
       "      <td>0</td>\n",
       "      <td>0</td>\n",
       "    </tr>\n",
       "    <tr>\n",
       "      <th>1042</th>\n",
       "      <td>0</td>\n",
       "      <td>0</td>\n",
       "    </tr>\n",
       "    <tr>\n",
       "      <th>1058</th>\n",
       "      <td>1</td>\n",
       "      <td>0</td>\n",
       "    </tr>\n",
       "    <tr>\n",
       "      <th>188</th>\n",
       "      <td>0</td>\n",
       "      <td>0</td>\n",
       "    </tr>\n",
       "    <tr>\n",
       "      <th>1069</th>\n",
       "      <td>0</td>\n",
       "      <td>1</td>\n",
       "    </tr>\n",
       "    <tr>\n",
       "      <th>658</th>\n",
       "      <td>0</td>\n",
       "      <td>0</td>\n",
       "    </tr>\n",
       "    <tr>\n",
       "      <th>254</th>\n",
       "      <td>0</td>\n",
       "      <td>0</td>\n",
       "    </tr>\n",
       "    <tr>\n",
       "      <th>322</th>\n",
       "      <td>0</td>\n",
       "      <td>0</td>\n",
       "    </tr>\n",
       "    <tr>\n",
       "      <th>1409</th>\n",
       "      <td>0</td>\n",
       "      <td>0</td>\n",
       "    </tr>\n",
       "    <tr>\n",
       "      <th>570</th>\n",
       "      <td>0</td>\n",
       "      <td>0</td>\n",
       "    </tr>\n",
       "    <tr>\n",
       "      <th>362</th>\n",
       "      <td>0</td>\n",
       "      <td>0</td>\n",
       "    </tr>\n",
       "    <tr>\n",
       "      <th>411</th>\n",
       "      <td>0</td>\n",
       "      <td>0</td>\n",
       "    </tr>\n",
       "    <tr>\n",
       "      <th>450</th>\n",
       "      <td>0</td>\n",
       "      <td>0</td>\n",
       "    </tr>\n",
       "    <tr>\n",
       "      <th>502</th>\n",
       "      <td>0</td>\n",
       "      <td>0</td>\n",
       "    </tr>\n",
       "    <tr>\n",
       "      <th>286</th>\n",
       "      <td>1</td>\n",
       "      <td>1</td>\n",
       "    </tr>\n",
       "    <tr>\n",
       "      <th>516</th>\n",
       "      <td>0</td>\n",
       "      <td>0</td>\n",
       "    </tr>\n",
       "    <tr>\n",
       "      <th>890</th>\n",
       "      <td>0</td>\n",
       "      <td>0</td>\n",
       "    </tr>\n",
       "  </tbody>\n",
       "</table>\n",
       "</div>"
      ],
      "text/plain": [
       "      actual  predicted\n",
       "943        0          0\n",
       "577        0          0\n",
       "786        0          0\n",
       "1378       0          0\n",
       "926        0          0\n",
       "1361       0          0\n",
       "1092       0          0\n",
       "1010       0          0\n",
       "853        0          0\n",
       "162        0          1\n",
       "816        0          1\n",
       "1421       0          0\n",
       "656        1          1\n",
       "132        1          1\n",
       "1144       0          0\n",
       "893        0          0\n",
       "663        1          0\n",
       "1299       0          0\n",
       "1446       0          0\n",
       "1417       0          0\n",
       "1148       0          0\n",
       "113        0          0\n",
       "1237       1          0\n",
       "1360       0          0\n",
       "1129       0          0\n",
       "102        1          0\n",
       "1367       0          0\n",
       "406        0          0\n",
       "374        0          0\n",
       "1042       0          0\n",
       "1058       1          0\n",
       "188        0          0\n",
       "1069       0          1\n",
       "658        0          0\n",
       "254        0          0\n",
       "322        0          0\n",
       "1409       0          0\n",
       "570        0          0\n",
       "362        0          0\n",
       "411        0          0\n",
       "450        0          0\n",
       "502        0          0\n",
       "286        1          1\n",
       "516        0          0\n",
       "890        0          0"
      ]
     },
     "execution_count": 26,
     "metadata": {},
     "output_type": "execute_result"
    }
   ],
   "source": [
    "#Predict for x dataset\n",
    "y_pred=model.predict(x_test)\n",
    "y_pred_df=pd.DataFrame({'actual':y_test,'predicted':model.predict(x_test)})\n",
    "y_pred_df[25:70]"
   ]
  },
  {
   "cell_type": "code",
   "execution_count": 27,
   "id": "uBmep2ya5_7u",
   "metadata": {
    "colab": {
     "base_uri": "https://localhost:8080/"
    },
    "id": "uBmep2ya5_7u",
    "outputId": "9966026b-7f0b-4bf5-fcfa-6b876f2a58ae"
   },
   "outputs": [
    {
     "data": {
      "text/plain": [
       "0.8401360544217688"
      ]
     },
     "execution_count": 27,
     "metadata": {},
     "output_type": "execute_result"
    }
   ],
   "source": [
    "#Correct Prediction\n",
    "y_pred_df['correct']=y_pred_df['actual']==y_pred_df['predicted']\n",
    "y_pred_df['correct'].mean()"
   ]
  },
  {
   "cell_type": "code",
   "execution_count": 28,
   "id": "xS0WCC3v6HZm",
   "metadata": {
    "colab": {
     "base_uri": "https://localhost:8080/"
    },
    "id": "xS0WCC3v6HZm",
    "outputId": "e3985813-67bd-44be-93f7-4f49b67f2a80"
   },
   "outputs": [
    {
     "name": "stdout",
     "output_type": "stream",
     "text": [
      "[[228  23]\n",
      " [ 24  19]]\n"
     ]
    }
   ],
   "source": [
    "#Confusion Matrix for model Accuracy\n",
    "from sklearn.metrics import confusion_matrix\n",
    "confusion_matrix=confusion_matrix(y_test,y_pred)\n",
    "print(confusion_matrix)"
   ]
  },
  {
   "cell_type": "code",
   "execution_count": 29,
   "id": "-pPiwe1d6ObM",
   "metadata": {
    "colab": {
     "base_uri": "https://localhost:8080/"
    },
    "id": "-pPiwe1d6ObM",
    "outputId": "4133f923-9016-473f-f8ad-6df729284817"
   },
   "outputs": [
    {
     "name": "stdout",
     "output_type": "stream",
     "text": [
      "              precision    recall  f1-score   support\n",
      "\n",
      "           0       0.90      0.91      0.91       251\n",
      "           1       0.45      0.44      0.45        43\n",
      "\n",
      "    accuracy                           0.84       294\n",
      "   macro avg       0.68      0.68      0.68       294\n",
      "weighted avg       0.84      0.84      0.84       294\n",
      "\n"
     ]
    }
   ],
   "source": [
    "#Classification Report\n",
    "from sklearn.metrics import classification_report\n",
    "print(classification_report(y_test,y_pred))"
   ]
  },
  {
   "cell_type": "markdown",
   "id": "TRzxmAJx6UP0",
   "metadata": {
    "id": "TRzxmAJx6UP0"
   },
   "source": [
    "The classifier gives an accuracy of 83%."
   ]
  },
  {
   "cell_type": "code",
   "execution_count": 30,
   "id": "sfThWN1t6VPc",
   "metadata": {
    "colab": {
     "base_uri": "https://localhost:8080/"
    },
    "id": "sfThWN1t6VPc",
    "outputId": "fef58f82-b385-4e30-c0ea-652e24365e5e"
   },
   "outputs": [
    {
     "data": {
      "text/plain": [
       "array([0.85279188, 0.8680203 , 0.89340102, 0.89847716, 0.89285714,\n",
       "       0.89795918, 0.90816327, 0.88265306, 0.8622449 , 0.89795918])"
      ]
     },
     "execution_count": 30,
     "metadata": {},
     "output_type": "execute_result"
    }
   ],
   "source": [
    "#Model Validation Technique(KFold)\n",
    "from sklearn.model_selection import KFold\n",
    "from sklearn.model_selection import cross_val_score\n",
    "from sklearn.linear_model import LogisticRegression\n",
    "num_folds = 10\n",
    "seed = 57\n",
    "kfold = KFold(n_splits=num_folds, random_state=seed,shuffle=True)\n",
    "model = LogisticRegression(max_iter=400)\n",
    "model.fit(x_train,y_train)\n",
    "results = cross_val_score(model, x_train, y_train, cv=kfold)\n",
    "results"
   ]
  },
  {
   "cell_type": "code",
   "execution_count": 31,
   "id": "YcquxjJo6cYf",
   "metadata": {
    "colab": {
     "base_uri": "https://localhost:8080/"
    },
    "id": "YcquxjJo6cYf",
    "outputId": "8c086da9-56e2-40e2-cd33-5a3dd3eb013b"
   },
   "outputs": [
    {
     "data": {
      "text/plain": [
       "0.8854527090023827"
      ]
     },
     "execution_count": 31,
     "metadata": {},
     "output_type": "execute_result"
    }
   ],
   "source": [
    "results.mean()"
   ]
  },
  {
   "cell_type": "markdown",
   "id": "78J-oSo26ge4",
   "metadata": {
    "id": "78J-oSo26ge4"
   },
   "source": [
    "On applying the k-fold cross validation technique to Lofistic Regression classifier the accuracy increases to abput 88.64%."
   ]
  },
  {
   "cell_type": "code",
   "execution_count": null,
   "id": "c5cce005",
   "metadata": {},
   "outputs": [],
   "source": []
  }
 ],
 "metadata": {
  "colab": {
   "provenance": []
  },
  "kernelspec": {
   "display_name": "Python 3 (ipykernel)",
   "language": "python",
   "name": "python3"
  },
  "language_info": {
   "codemirror_mode": {
    "name": "ipython",
    "version": 3
   },
   "file_extension": ".py",
   "mimetype": "text/x-python",
   "name": "python",
   "nbconvert_exporter": "python",
   "pygments_lexer": "ipython3",
   "version": "3.10.9"
  }
 },
 "nbformat": 4,
 "nbformat_minor": 5
}
